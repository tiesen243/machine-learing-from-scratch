{
 "cells": [
  {
   "cell_type": "markdown",
   "metadata": {},
   "source": [
    "<h1 align=\"center\">Linear Regression</h1>"
   ]
  },
  {
   "cell_type": "markdown",
   "metadata": {},
   "source": [
    "## Import libraries"
   ]
  },
  {
   "cell_type": "code",
   "execution_count": 413,
   "metadata": {},
   "outputs": [],
   "source": [
    "import math\n",
    "import numpy as np\n",
    "import matplotlib.pyplot as plt\n",
    "\n",
    "from sklearn.datasets import load_diabetes\n",
    "from sklearn.model_selection import train_test_split"
   ]
  },
  {
   "cell_type": "markdown",
   "metadata": {},
   "source": [
    "## Model"
   ]
  },
  {
   "cell_type": "markdown",
   "metadata": {},
   "source": [
    "### Utils"
   ]
  },
  {
   "cell_type": "code",
   "execution_count": 414,
   "metadata": {},
   "outputs": [],
   "source": [
    "def mse(y_true: np.ndarray, y_pred: np.ndarray) -> float:\n",
    "    \"\"\"\n",
    "    Mean Squared Error (MSE)\n",
    "\n",
    "    Parameters\n",
    "    ----------\n",
    "    y_true : np.ndarray\n",
    "        True values\n",
    "    y_pred : np.ndarray\n",
    "        Predicted values\n",
    "\n",
    "    Returns\n",
    "    -------\n",
    "    float\n",
    "        Mean Squared Error\n",
    "    \"\"\"\n",
    "    return np.mean((y_true - y_pred) ** 2)"
   ]
  },
  {
   "cell_type": "code",
   "execution_count": 415,
   "metadata": {},
   "outputs": [],
   "source": [
    "def load_data(path: str) -> np.ndarray:\n",
    "    \"\"\"\n",
    "    Load data from a file\n",
    "\n",
    "    Parameters\n",
    "    ----------\n",
    "    path : str\n",
    "        Path to the file\n",
    "\n",
    "    Returns\n",
    "    -------\n",
    "    np.ndarray\n",
    "        Data\n",
    "    \"\"\"\n",
    "    data = np.loadtxt(path, delimiter=\",\")\n",
    "    X = data[:, 0]\n",
    "    y = data[:, 1]\n",
    "    return X, y"
   ]
  },
  {
   "cell_type": "markdown",
   "metadata": {},
   "source": [
    "### Linear Regression class"
   ]
  },
  {
   "cell_type": "code",
   "execution_count": 416,
   "metadata": {},
   "outputs": [],
   "source": [
    "class LinearRegression:\n",
    "    def __init__(self, lr: float = 0.01) -> None:\n",
    "        \"\"\"\n",
    "        Initialize the Linear Regression model\n",
    "\n",
    "        Parameters:\n",
    "        ----------\n",
    "        lr: float\n",
    "            Learning rate for the model\n",
    "        \"\"\"\n",
    "        self.lr = lr\n",
    "\n",
    "        self.weights: np.ndarray\n",
    "        self.bias: np.float64\n",
    "\n",
    "        self.loss: list = []\n",
    "        self.accuracy: list = []\n",
    "\n",
    "    def fit(\n",
    "        self, X: np.ndarray, y: np.ndarray, n_iters: int = 1000, verbose: bool = False\n",
    "    ) -> None:\n",
    "        \"\"\"\n",
    "        Fit the model to the data\n",
    "\n",
    "        Parameters:\n",
    "        ----------\n",
    "        X: np.ndarray\n",
    "            Input data\n",
    "        y: np.ndarray\n",
    "            Target data\n",
    "        n_iters: int\n",
    "            Number of iterations to train the model\n",
    "        verbose: bool\n",
    "            Whether to print the loss at each iteration\n",
    "        \"\"\"\n",
    "        n_features = X.shape[1]\n",
    "\n",
    "        self.weights = np.zeros(n_features)\n",
    "        self.bias = 0\n",
    "\n",
    "        for i in range(n_iters):\n",
    "            dw, db = self.compute_gradient(X, y, self.weights, self.bias)\n",
    "            self.loss.append(self.cost(X, y))\n",
    "\n",
    "            self.weights -= self.lr * dw\n",
    "            self.bias -= self.lr * db\n",
    "\n",
    "            if verbose and i % math.ceil(n_iters / 10) == 0:\n",
    "                print(f\"Epoch {i}, Loss: {np.mean(self.loss[i])}\")\n",
    "\n",
    "    def compute_gradient(self, x, y, w, b):\n",
    "        \"\"\"\n",
    "        Computes the gradient for linear regression\n",
    "\n",
    "        Prarameters:\n",
    "        ----------\n",
    "        x (ndarray): Shape (m,) Input to the model (Population of cities)\n",
    "        y (ndarray): Shape (m,) Label (Actual profits for the cities)\n",
    "        w, b (scalar): Parameters of the model\n",
    "\n",
    "        Returns\n",
    "        -------\n",
    "        dj_dw (scalar): The gradient of the cost w.r.t. the parameters w\n",
    "        dj_db (scalar): The gradient of the cost w.r.t. the parameter b\n",
    "        \"\"\"\n",
    "        n_samples = x.shape[0]\n",
    "\n",
    "        dj_dw = 0\n",
    "        dj_db = 0\n",
    "\n",
    "        for i in range(n_samples):\n",
    "            y_pred = w * x[i] + b\n",
    "            dj_dw += (y_pred - y[i]) * x[i]\n",
    "            dj_db += y_pred - y[i]\n",
    "\n",
    "        return dj_dw / n_samples, dj_db / n_samples\n",
    "\n",
    "    def cost(self, X: np.ndarray, y: np.ndarray) -> np.float64:\n",
    "        n_samples = X.shape[0]\n",
    "        total_cost = 0\n",
    "\n",
    "        for i in range(n_samples):\n",
    "            y_pred = self.weights * X[i] + self.bias\n",
    "            total_cost += (y_pred - y[i]) ** 2\n",
    "\n",
    "        return ((1 / (2 * n_samples)) * total_cost).round(2)\n",
    "\n",
    "    def predict(self, X: np.ndarray) -> np.ndarray:\n",
    "        y_pred = self.weights * X + self.bias\n",
    "        return y_pred\n",
    "\n",
    "    def score(self, X: np.ndarray, y: np.ndarray) -> np.float64:\n",
    "        y_pred = self.predict(X)\n",
    "        return np.mean((y - y_pred) ** 2)"
   ]
  },
  {
   "cell_type": "markdown",
   "metadata": {},
   "source": [
    "## Train model"
   ]
  },
  {
   "cell_type": "code",
   "execution_count": 417,
   "metadata": {},
   "outputs": [],
   "source": [
    "X, y = load_data(\"data/city.txt\")\n",
    "X = X.reshape(-1, 1)"
   ]
  },
  {
   "cell_type": "code",
   "execution_count": 418,
   "metadata": {},
   "outputs": [
    {
     "name": "stdout",
     "output_type": "stream",
     "text": [
      "Epoch 0, Loss: 32.07\n",
      "Epoch 150, Loss: 5.31\n",
      "Epoch 300, Loss: 4.96\n",
      "Epoch 450, Loss: 4.76\n",
      "Epoch 600, Loss: 4.64\n",
      "Epoch 750, Loss: 4.57\n",
      "Epoch 900, Loss: 4.53\n",
      "Epoch 1050, Loss: 4.51\n",
      "Epoch 1200, Loss: 4.5\n",
      "Epoch 1350, Loss: 4.49\n"
     ]
    }
   ],
   "source": [
    "model = LinearRegression(lr=0.01)\n",
    "model.fit(X, y, n_iters=1500, verbose=True)"
   ]
  },
  {
   "cell_type": "code",
   "execution_count": 419,
   "metadata": {},
   "outputs": [
    {
     "data": {
      "image/png": "[encoded data removed]",
      "text/plain": [
       "<Figure size 640x480 with 1 Axes>"
      ]
     },
     "metadata": {},
     "output_type": "display_data"
    }
   ],
   "source": [
    "plt.plot(model.loss)\n",
    "plt.xlabel(\"Iterations\")\n",
    "plt.ylabel(\"Loss\")\n",
    "plt.title(\"Loss vs Iterations\")\n",
    "plt.show()"
   ]
  },
  {
   "cell_type": "code",
   "execution_count": 420,
   "metadata": {},
   "outputs": [],
   "source": [
    "y_pred = model.predict(X)"
   ]
  },
  {
   "cell_type": "code",
   "execution_count": 421,
   "metadata": {},
   "outputs": [
    {
     "data": {
      "text/plain": [
       "Text(0.5, 0, 'Population of City in 10,000s')"
      ]
     },
     "execution_count": 421,
     "metadata": {},
     "output_type": "execute_result"
    },
    {
     "data": {
      "image/png": "[encoded data removed]",
      "text/plain": [
       "<Figure size 640x480 with 1 Axes>"
      ]
     },
     "metadata": {},
     "output_type": "display_data"
    }
   ],
   "source": [
    "plt.plot(X, y_pred, c=\"b\")\n",
    "plt.scatter(X, y, marker=\"x\", c=\"r\")\n",
    "plt.title(\"Profits vs. Population per city\")\n",
    "plt.ylabel(\"Profit in $10,000\")\n",
    "plt.xlabel(\"Population of City in 10,000s\")"
   ]
  },
  {
   "cell_type": "code",
   "execution_count": 422,
   "metadata": {},
   "outputs": [
    {
     "name": "stdout",
     "output_type": "stream",
     "text": [
      "For population = 35000.0, we predict a profit of $4519.77\n",
      "For population = 70000.0, we predict a profit of $45342.45\n"
     ]
    }
   ],
   "source": [
    "X_test = np.array([3.5, 7])\n",
    "predicts = model.predict(X_test)\n",
    "\n",
    "for x, predict in zip(X_test, predicts):\n",
    "    print(f\"For population = {x * 10000}, we predict a profit of ${predict*10000:.2f}\")"
   ]
  }
 ],
 "metadata": {
  "kernelspec": {
   "display_name": "Python 3",
   "language": "python",
   "name": "python3"
  },
  "language_info": {
   "codemirror_mode": {
    "name": "ipython",
    "version": 3
   },
   "file_extension": ".py",
   "mimetype": "text/x-python",
   "name": "python",
   "nbconvert_exporter": "python",
   "pygments_lexer": "ipython3",
   "version": "3.12.1"
  }
 },
 "nbformat": 4,
 "nbformat_minor": 2
}
