{
 "cells": [
  {
   "cell_type": "markdown",
   "metadata": {},
   "source": [
    "<h1 align=\"center\">Linear Regression</h1>"
   ]
  },
  {
   "cell_type": "markdown",
   "metadata": {},
   "source": [
    "## Import libraries"
   ]
  },
  {
   "cell_type": "code",
   "execution_count": 28,
   "metadata": {},
   "outputs": [],
   "source": [
    "import numpy as np\n",
    "import matplotlib.pyplot as plt\n",
    "\n",
    "from sklearn.datasets import load_diabetes\n",
    "from sklearn.model_selection import train_test_split"
   ]
  },
  {
   "cell_type": "markdown",
   "metadata": {},
   "source": [
    "## Model"
   ]
  },
  {
   "cell_type": "markdown",
   "metadata": {},
   "source": [
    "### Utils"
   ]
  },
  {
   "cell_type": "code",
   "execution_count": 34,
   "metadata": {},
   "outputs": [],
   "source": [
    "def mse(y_true: np.ndarray, y_pred: np.ndarray) -> float:\n",
    "    \"\"\"\n",
    "    Mean Squared Error (MSE)\n",
    "\n",
    "    Parameters\n",
    "    ----------\n",
    "    y_true : np.ndarray\n",
    "        True values\n",
    "    y_pred : np.ndarray\n",
    "        Predicted values\n",
    "\n",
    "    Returns\n",
    "    -------\n",
    "    float\n",
    "        Mean Squared Error\n",
    "    \"\"\"\n",
    "    return np.mean((y_true - y_pred) ** 2)"
   ]
  },
  {
   "cell_type": "markdown",
   "metadata": {},
   "source": [
    "### Linear Regression class"
   ]
  },
  {
   "cell_type": "code",
   "execution_count": 30,
   "metadata": {},
   "outputs": [],
   "source": [
    "class LinearRegression:\n",
    "    def __init__(self, lr: float = 0.001) -> None:\n",
    "        \"\"\"\n",
    "        Initialize the Linear Regression model\n",
    "\n",
    "        Parameters:\n",
    "        ----------\n",
    "        lr: float\n",
    "            Learning rate for the model\n",
    "        \"\"\"\n",
    "        self.lr = lr\n",
    "\n",
    "        self.weights: np.ndarray\n",
    "        self.bias: np.float64\n",
    "\n",
    "        self.loss: list = []\n",
    "        self.accuracy: list = []\n",
    "\n",
    "    def fit(\n",
    "        self, X: np.ndarray, y: np.ndarray, seed: int = 69, n_iters: int = 1000\n",
    "    ) -> None:\n",
    "        \"\"\"\n",
    "        Fit the model to the data\n",
    "\n",
    "        Parameters:\n",
    "        ----------\n",
    "        X: np.ndarray\n",
    "            Input data\n",
    "        y: np.ndarray\n",
    "            Target data\n",
    "        seed: int\n",
    "            Seed for random initialization\n",
    "        n_iters: int\n",
    "            Number of iterations to train the model\n",
    "        \"\"\"\n",
    "        np.random.seed(seed)\n",
    "\n",
    "        n_samples, n_features = X.shape\n",
    "\n",
    "        self.weights = np.zeros(n_features)\n",
    "        self.bias = 0\n",
    "\n",
    "        X_train, X_val, y_train, y_val = train_test_split(X, y, test_size=0.2)\n",
    "\n",
    "        for _ in range(n_iters):\n",
    "            y_pred = self.predict(X_train)\n",
    "            self.loss.append(mse(y_train, y_pred))\n",
    "            self.accuracy.append(self.score(X_val, y_val))\n",
    "\n",
    "            dw = (1 / n_samples) * np.dot(X_train.T, (y_pred - y_train))\n",
    "            db = (1 / n_samples) * np.sum(y_pred - y_train)\n",
    "\n",
    "            self.weights -= self.lr * dw\n",
    "            self.bias -= self.lr * db\n",
    "\n",
    "    def predict(self, X: np.ndarray) -> np.ndarray:\n",
    "        y_pred = np.dot(X, self.weights) + self.bias\n",
    "        return y_pred\n",
    "\n",
    "    def score(self, X: np.ndarray, y: np.ndarray) -> np.float64:\n",
    "        y_pred = self.predict(X)\n",
    "        return np.mean((y - y_pred) ** 2)"
   ]
  },
  {
   "cell_type": "markdown",
   "metadata": {},
   "source": [
    "## Train model"
   ]
  },
  {
   "cell_type": "code",
   "execution_count": 31,
   "metadata": {},
   "outputs": [
    {
     "name": "stdout",
     "output_type": "stream",
     "text": [
      "(353, 10) (89, 10) (353,) (89,)\n"
     ]
    }
   ],
   "source": [
    "X, y = load_diabetes(return_X_y=True)\n",
    "\n",
    "X_train, X_test, y_train, y_test = train_test_split(\n",
    "    X, y, test_size=0.2, random_state=69\n",
    ")\n",
    "\n",
    "print(X_train.shape, X_test.shape, y_train.shape, y_test.shape)"
   ]
  },
  {
   "cell_type": "code",
   "execution_count": 32,
   "metadata": {},
   "outputs": [],
   "source": [
    "model = LinearRegression(lr=0.01)\n",
    "model.fit(X_train, y_train, n_iters=1000)"
   ]
  },
  {
   "cell_type": "code",
   "execution_count": 33,
   "metadata": {},
   "outputs": [
    {
     "name": "stdout",
     "output_type": "stream",
     "text": [
      "Model Score: 4438.7048765877025\n"
     ]
    }
   ],
   "source": [
    "score = model.score(X_test, y_test)\n",
    "print(f\"Model Score: {score}\")"
   ]
  }
 ],
 "metadata": {
  "kernelspec": {
   "display_name": "Python 3",
   "language": "python",
   "name": "python3"
  },
  "language_info": {
   "codemirror_mode": {
    "name": "ipython",
    "version": 3
   },
   "file_extension": ".py",
   "mimetype": "text/x-python",
   "name": "python",
   "nbconvert_exporter": "python",
   "pygments_lexer": "ipython3",
   "version": "3.12.1"
  }
 },
 "nbformat": 4,
 "nbformat_minor": 2
}
